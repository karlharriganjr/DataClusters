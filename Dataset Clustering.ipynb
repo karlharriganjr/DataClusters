{
 "cells": [
  {
   "cell_type": "code",
   "execution_count": 1,
   "metadata": {},
   "outputs": [],
   "source": [
    "#Loading Libraries\n",
    "import pandas as pd\n",
    "import numpy as np\n",
    "import matplotlib.pyplot as plt\n",
    "import warnings; warnings.simplefilter('ignore')\n",
    "from sklearn import metrics\n",
    "import seaborn as sns\n",
    "%matplotlib inline"
   ]
  },
  {
   "cell_type": "code",
   "execution_count": 2,
   "metadata": {},
   "outputs": [],
   "source": [
    "#Gathering Data\n",
    "logs = pd.read_csv(\"C:/Users/Bre/Desktop/netflow_day-02.csv\", sep=\",\", index_col=False, nrows = 5000)"
   ]
  },
  {
   "cell_type": "code",
   "execution_count": 3,
   "metadata": {},
   "outputs": [
    {
     "data": {
      "text/html": [
       "<div>\n",
       "<style scoped>\n",
       "    .dataframe tbody tr th:only-of-type {\n",
       "        vertical-align: middle;\n",
       "    }\n",
       "\n",
       "    .dataframe tbody tr th {\n",
       "        vertical-align: top;\n",
       "    }\n",
       "\n",
       "    .dataframe thead th {\n",
       "        text-align: right;\n",
       "    }\n",
       "</style>\n",
       "<table border=\"1\" class=\"dataframe\">\n",
       "  <thead>\n",
       "    <tr style=\"text-align: right;\">\n",
       "      <th></th>\n",
       "      <th>time</th>\n",
       "      <th>duration</th>\n",
       "      <th>srcDevice</th>\n",
       "      <th>dstDevice</th>\n",
       "      <th>protocol</th>\n",
       "      <th>srcPort</th>\n",
       "      <th>dstPort</th>\n",
       "      <th>srcPackets</th>\n",
       "      <th>dstPackets</th>\n",
       "      <th>srcBytes</th>\n",
       "      <th>dstBytes</th>\n",
       "    </tr>\n",
       "  </thead>\n",
       "  <tbody>\n",
       "    <tr>\n",
       "      <th>0</th>\n",
       "      <td>118781</td>\n",
       "      <td>5580</td>\n",
       "      <td>Comp364445</td>\n",
       "      <td>Comp547245</td>\n",
       "      <td>17</td>\n",
       "      <td>Port05507</td>\n",
       "      <td>Port46272</td>\n",
       "      <td>0</td>\n",
       "      <td>755065</td>\n",
       "      <td>0</td>\n",
       "      <td>1042329018</td>\n",
       "    </tr>\n",
       "    <tr>\n",
       "      <th>1</th>\n",
       "      <td>118783</td>\n",
       "      <td>6976</td>\n",
       "      <td>Comp450942</td>\n",
       "      <td>Comp829338</td>\n",
       "      <td>6</td>\n",
       "      <td>Port03137</td>\n",
       "      <td>445</td>\n",
       "      <td>1665</td>\n",
       "      <td>1108</td>\n",
       "      <td>300810</td>\n",
       "      <td>250408</td>\n",
       "    </tr>\n",
       "    <tr>\n",
       "      <th>2</th>\n",
       "      <td>118785</td>\n",
       "      <td>14178</td>\n",
       "      <td>IP564116</td>\n",
       "      <td>Comp141988</td>\n",
       "      <td>17</td>\n",
       "      <td>5060</td>\n",
       "      <td>5060</td>\n",
       "      <td>1866</td>\n",
       "      <td>0</td>\n",
       "      <td>1477041</td>\n",
       "      <td>0</td>\n",
       "    </tr>\n",
       "    <tr>\n",
       "      <th>3</th>\n",
       "      <td>118785</td>\n",
       "      <td>28147</td>\n",
       "      <td>IP564116</td>\n",
       "      <td>Comp141988</td>\n",
       "      <td>17</td>\n",
       "      <td>5060</td>\n",
       "      <td>5060</td>\n",
       "      <td>3326</td>\n",
       "      <td>0</td>\n",
       "      <td>2656305</td>\n",
       "      <td>0</td>\n",
       "    </tr>\n",
       "    <tr>\n",
       "      <th>4</th>\n",
       "      <td>118785</td>\n",
       "      <td>48507</td>\n",
       "      <td>IP564116</td>\n",
       "      <td>Comp141988</td>\n",
       "      <td>17</td>\n",
       "      <td>5060</td>\n",
       "      <td>5060</td>\n",
       "      <td>5423</td>\n",
       "      <td>0</td>\n",
       "      <td>4388449</td>\n",
       "      <td>0</td>\n",
       "    </tr>\n",
       "  </tbody>\n",
       "</table>\n",
       "</div>"
      ],
      "text/plain": [
       "     time  duration   srcDevice   dstDevice  protocol    srcPort    dstPort  \\\n",
       "0  118781      5580  Comp364445  Comp547245        17  Port05507  Port46272   \n",
       "1  118783      6976  Comp450942  Comp829338         6  Port03137        445   \n",
       "2  118785     14178    IP564116  Comp141988        17       5060       5060   \n",
       "3  118785     28147    IP564116  Comp141988        17       5060       5060   \n",
       "4  118785     48507    IP564116  Comp141988        17       5060       5060   \n",
       "\n",
       "   srcPackets  dstPackets  srcBytes    dstBytes  \n",
       "0           0      755065         0  1042329018  \n",
       "1        1665        1108    300810      250408  \n",
       "2        1866           0   1477041           0  \n",
       "3        3326           0   2656305           0  \n",
       "4        5423           0   4388449           0  "
      ]
     },
     "execution_count": 3,
     "metadata": {},
     "output_type": "execute_result"
    }
   ],
   "source": [
    "logs.head()"
   ]
  },
  {
   "cell_type": "code",
   "execution_count": 4,
   "metadata": {},
   "outputs": [],
   "source": [
    "#Selecting String Value Fields To Be Used In Modelling\n",
    "X = logs[['srcBytes', 'srcPackets', 'dstBytes', 'dstPackets']]"
   ]
  },
  {
   "cell_type": "code",
   "execution_count": 5,
   "metadata": {},
   "outputs": [],
   "source": [
    "#Loading Min Max Scaling and Creating New Data Frame\n",
    "from sklearn.preprocessing import MinMaxScaler\n",
    "scaler = MinMaxScaler()\n",
    "X_normalized = pd.DataFrame(scaler.fit_transform(X))        #We Normalized the data so that we can accurately compare them"
   ]
  },
  {
   "cell_type": "code",
   "execution_count": 6,
   "metadata": {},
   "outputs": [],
   "source": [
    "#Assining Column Names. We Normalize these columns to have a common scalar value since Packet No. & Byte Size are different\n",
    "X_normalized.columns = ['srcBytes', 'srcPackets', 'dstBytes', 'dstPackets']"
   ]
  },
  {
   "cell_type": "markdown",
   "metadata": {},
   "source": [
    "# KMeans Implementation"
   ]
  },
  {
   "cell_type": "code",
   "execution_count": 7,
   "metadata": {},
   "outputs": [],
   "source": [
    "from sklearn.cluster import KMeans\n",
    "kmeans = KMeans(n_clusters=2)          #n_clusters = 2 Explicitly states how many clusters we're working with (i.e. 2)\n",
    "kmeans.fit(X_normalized)\n",
    "y_kmeans = kmeans.predict(X_normalized)"
   ]
  },
  {
   "cell_type": "code",
   "execution_count": 8,
   "metadata": {},
   "outputs": [
    {
     "name": "stdout",
     "output_type": "stream",
     "text": [
      "Cluster centers of columns:\n",
      "\n",
      "   srcBytes  srcPackets  dstBytes  dstPackets\n",
      "0  0.001155    0.000646  0.001059    0.000199\n",
      "1  0.999874    0.999883  0.999962    0.999991\n"
     ]
    }
   ],
   "source": [
    "#Assigning cluster centers\n",
    "centers = kmeans.cluster_centers_\n",
    "print('Cluster centers of columns:\\n')\n",
    "print(pd.DataFrame(centers,columns= ['srcBytes', 'srcPackets', 'dstBytes', 'dstPackets']))"
   ]
  },
  {
   "cell_type": "markdown",
   "metadata": {},
   "source": [
    "# Elbow Method"
   ]
  },
  {
   "cell_type": "code",
   "execution_count": 9,
   "metadata": {},
   "outputs": [],
   "source": [
    "from sklearn import metrics\n",
    "from scipy.spatial.distance import cdist"
   ]
  },
  {
   "cell_type": "code",
   "execution_count": 10,
   "metadata": {
    "scrolled": true
   },
   "outputs": [
    {
     "data": {
      "image/png": "[encoded data removed]",
      "text/plain": [
       "<matplotlib.figure.Figure at 0x74a7e1c390>"
      ]
     },
     "metadata": {},
     "output_type": "display_data"
    }
   ],
   "source": [
    "distortions = []\n",
    "K = range(1,30)           #States how many points we want plotted on our Elbow Graph\n",
    "for k in K:\n",
    "    kmeanModel = KMeans(n_clusters=k).fit(X_normalized)\n",
    "    kmeanModel.fit(X_normalized)\n",
    "    distortions.append(sum(np.min(cdist(X_normalized, kmeanModel.cluster_centers_, 'euclidean'), axis=1)) / X_normalized.shape[0])\n",
    " \n",
    "# Plot the elbow\n",
    "plt.plot(K, distortions, 'bx-')\n",
    "plt.xlabel('k')\n",
    "plt.ylabel('Distortion')\n",
    "plt.title('The Elbow Method showing the optimal k')\n",
    "plt.show()"
   ]
  },
  {
   "cell_type": "markdown",
   "metadata": {},
   "source": [
    "# Mean-Shift"
   ]
  },
  {
   "cell_type": "code",
   "execution_count": 11,
   "metadata": {
    "scrolled": true
   },
   "outputs": [
    {
     "name": "stdout",
     "output_type": "stream",
     "text": [
      "number of estimated clusters : 48\n"
     ]
    }
   ],
   "source": [
    "#Mean-Shift Clustering\n",
    "from sklearn.cluster import MeanShift, estimate_bandwidth\n",
    "\n",
    "ms = MeanShift(bin_seeding=True)\n",
    "ms.fit(X_normalized)\n",
    "labels = ms.labels_\n",
    "cluster_centers = ms.cluster_centers_\n",
    "\n",
    "labels_unique = np.unique(labels)\n",
    "n_clusters_ = len(labels_unique)\n",
    "\n",
    "print(\"number of estimated clusters : %d\" % n_clusters_)"
   ]
  },
  {
   "cell_type": "markdown",
   "metadata": {},
   "source": [
    "# Printing The Labels"
   ]
  },
  {
   "cell_type": "code",
   "execution_count": 12,
   "metadata": {},
   "outputs": [
    {
     "name": "stdout",
     "output_type": "stream",
     "text": [
      "[0 0 0 ... 0 0 0]\n"
     ]
    }
   ],
   "source": [
    "labels = kmeans.labels_\n",
    "print(labels)"
   ]
  },
  {
   "cell_type": "markdown",
   "metadata": {},
   "source": [
    "# Duplicate Data Logs Testing"
   ]
  },
  {
   "cell_type": "code",
   "execution_count": 31,
   "metadata": {},
   "outputs": [],
   "source": [
    "xLogs = logs               #xLogs is a copy of the original data set\n",
    "\n",
    "xLogs['clusters'] = labels #Adding the corresponding labels as a column to the data set\n",
    "#xLogs.drop('[column name]', axis = 1, inplace=True) <----- Used to completely delete a column. axis=1 means a column\n",
    "\n",
    "#X2 is the PCA-subset of the data set\n",
    "X2 = xLogs[['srcPackets','dstPackets','srcBytes','dstBytes']]\n",
    "\n",
    "#X3 is the same as X2 but with the cluster column\n",
    "X3_clusters = xLogs[['srcPackets','dstPackets','srcBytes','dstBytes', 'clusters']]"
   ]
  },
  {
   "cell_type": "code",
   "execution_count": 14,
   "metadata": {},
   "outputs": [
    {
     "data": {
      "text/html": [
       "<div>\n",
       "<style scoped>\n",
       "    .dataframe tbody tr th:only-of-type {\n",
       "        vertical-align: middle;\n",
       "    }\n",
       "\n",
       "    .dataframe tbody tr th {\n",
       "        vertical-align: top;\n",
       "    }\n",
       "\n",
       "    .dataframe thead th {\n",
       "        text-align: right;\n",
       "    }\n",
       "</style>\n",
       "<table border=\"1\" class=\"dataframe\">\n",
       "  <thead>\n",
       "    <tr style=\"text-align: right;\">\n",
       "      <th></th>\n",
       "      <th>time</th>\n",
       "      <th>duration</th>\n",
       "      <th>srcDevice</th>\n",
       "      <th>dstDevice</th>\n",
       "      <th>protocol</th>\n",
       "      <th>srcPort</th>\n",
       "      <th>dstPort</th>\n",
       "      <th>srcPackets</th>\n",
       "      <th>dstPackets</th>\n",
       "      <th>srcBytes</th>\n",
       "      <th>dstBytes</th>\n",
       "      <th>clusters</th>\n",
       "    </tr>\n",
       "  </thead>\n",
       "  <tbody>\n",
       "    <tr>\n",
       "      <th>0</th>\n",
       "      <td>118781</td>\n",
       "      <td>5580</td>\n",
       "      <td>Comp364445</td>\n",
       "      <td>Comp547245</td>\n",
       "      <td>17</td>\n",
       "      <td>Port05507</td>\n",
       "      <td>Port46272</td>\n",
       "      <td>0</td>\n",
       "      <td>755065</td>\n",
       "      <td>0</td>\n",
       "      <td>1042329018</td>\n",
       "      <td>0</td>\n",
       "    </tr>\n",
       "    <tr>\n",
       "      <th>1</th>\n",
       "      <td>118783</td>\n",
       "      <td>6976</td>\n",
       "      <td>Comp450942</td>\n",
       "      <td>Comp829338</td>\n",
       "      <td>6</td>\n",
       "      <td>Port03137</td>\n",
       "      <td>445</td>\n",
       "      <td>1665</td>\n",
       "      <td>1108</td>\n",
       "      <td>300810</td>\n",
       "      <td>250408</td>\n",
       "      <td>0</td>\n",
       "    </tr>\n",
       "    <tr>\n",
       "      <th>2</th>\n",
       "      <td>118785</td>\n",
       "      <td>14178</td>\n",
       "      <td>IP564116</td>\n",
       "      <td>Comp141988</td>\n",
       "      <td>17</td>\n",
       "      <td>5060</td>\n",
       "      <td>5060</td>\n",
       "      <td>1866</td>\n",
       "      <td>0</td>\n",
       "      <td>1477041</td>\n",
       "      <td>0</td>\n",
       "      <td>0</td>\n",
       "    </tr>\n",
       "    <tr>\n",
       "      <th>3</th>\n",
       "      <td>118785</td>\n",
       "      <td>28147</td>\n",
       "      <td>IP564116</td>\n",
       "      <td>Comp141988</td>\n",
       "      <td>17</td>\n",
       "      <td>5060</td>\n",
       "      <td>5060</td>\n",
       "      <td>3326</td>\n",
       "      <td>0</td>\n",
       "      <td>2656305</td>\n",
       "      <td>0</td>\n",
       "      <td>0</td>\n",
       "    </tr>\n",
       "    <tr>\n",
       "      <th>4</th>\n",
       "      <td>118785</td>\n",
       "      <td>48507</td>\n",
       "      <td>IP564116</td>\n",
       "      <td>Comp141988</td>\n",
       "      <td>17</td>\n",
       "      <td>5060</td>\n",
       "      <td>5060</td>\n",
       "      <td>5423</td>\n",
       "      <td>0</td>\n",
       "      <td>4388449</td>\n",
       "      <td>0</td>\n",
       "      <td>0</td>\n",
       "    </tr>\n",
       "  </tbody>\n",
       "</table>\n",
       "</div>"
      ],
      "text/plain": [
       "     time  duration   srcDevice   dstDevice  protocol    srcPort    dstPort  \\\n",
       "0  118781      5580  Comp364445  Comp547245        17  Port05507  Port46272   \n",
       "1  118783      6976  Comp450942  Comp829338         6  Port03137        445   \n",
       "2  118785     14178    IP564116  Comp141988        17       5060       5060   \n",
       "3  118785     28147    IP564116  Comp141988        17       5060       5060   \n",
       "4  118785     48507    IP564116  Comp141988        17       5060       5060   \n",
       "\n",
       "   srcPackets  dstPackets  srcBytes    dstBytes  clusters  \n",
       "0           0      755065         0  1042329018         0  \n",
       "1        1665        1108    300810      250408         0  \n",
       "2        1866           0   1477041           0         0  \n",
       "3        3326           0   2656305           0         0  \n",
       "4        5423           0   4388449           0         0  "
      ]
     },
     "execution_count": 14,
     "metadata": {},
     "output_type": "execute_result"
    }
   ],
   "source": [
    "xLogs.head()"
   ]
  },
  {
   "cell_type": "code",
   "execution_count": 15,
   "metadata": {
    "collapsed": true
   },
   "outputs": [
    {
     "data": {
      "text/plain": [
       "time               119169\n",
       "duration            46850\n",
       "srcDevice      Comp004479\n",
       "dstDevice      Comp274690\n",
       "protocol                6\n",
       "srcPort         Port17617\n",
       "dstPort              2049\n",
       "srcPackets      188012056\n",
       "dstPackets     1106026322\n",
       "srcBytes      18243509496\n",
       "dstBytes      45576786992\n",
       "clusters                1\n",
       "Name: 312, dtype: object"
      ]
     },
     "execution_count": 15,
     "metadata": {},
     "output_type": "execute_result"
    }
   ],
   "source": [
    "#Printing a particular index\n",
    "xLogs.ix[312]"
   ]
  },
  {
   "cell_type": "markdown",
   "metadata": {},
   "source": [
    "# Cluster ID 1"
   ]
  },
  {
   "cell_type": "code",
   "execution_count": 16,
   "metadata": {},
   "outputs": [
    {
     "data": {
      "text/plain": [
       "(array([310, 311, 312, 313, 314, 315], dtype=int64),)"
      ]
     },
     "execution_count": 16,
     "metadata": {},
     "output_type": "execute_result"
    }
   ],
   "source": [
    "#Used to find the indexes of those rows where the Cluster equals 1\n",
    "np.where(xLogs[\"clusters\"] == 1)"
   ]
  },
  {
   "cell_type": "code",
   "execution_count": 17,
   "metadata": {
    "collapsed": true
   },
   "outputs": [
    {
     "data": {
      "text/html": [
       "<div>\n",
       "<style scoped>\n",
       "    .dataframe tbody tr th:only-of-type {\n",
       "        vertical-align: middle;\n",
       "    }\n",
       "\n",
       "    .dataframe tbody tr th {\n",
       "        vertical-align: top;\n",
       "    }\n",
       "\n",
       "    .dataframe thead th {\n",
       "        text-align: right;\n",
       "    }\n",
       "</style>\n",
       "<table border=\"1\" class=\"dataframe\">\n",
       "  <thead>\n",
       "    <tr style=\"text-align: right;\">\n",
       "      <th></th>\n",
       "      <th>time</th>\n",
       "      <th>duration</th>\n",
       "      <th>srcDevice</th>\n",
       "      <th>dstDevice</th>\n",
       "      <th>protocol</th>\n",
       "      <th>srcPort</th>\n",
       "      <th>dstPort</th>\n",
       "      <th>srcPackets</th>\n",
       "      <th>dstPackets</th>\n",
       "      <th>srcBytes</th>\n",
       "      <th>dstBytes</th>\n",
       "      <th>clusters</th>\n",
       "    </tr>\n",
       "  </thead>\n",
       "  <tbody>\n",
       "    <tr>\n",
       "      <th>310</th>\n",
       "      <td>119169</td>\n",
       "      <td>14275</td>\n",
       "      <td>Comp004479</td>\n",
       "      <td>Comp274690</td>\n",
       "      <td>6</td>\n",
       "      <td>Port17617</td>\n",
       "      <td>2049</td>\n",
       "      <td>84515677</td>\n",
       "      <td>588887960</td>\n",
       "      <td>8197543524</td>\n",
       "      <td>22300992620</td>\n",
       "      <td>1</td>\n",
       "    </tr>\n",
       "    <tr>\n",
       "      <th>311</th>\n",
       "      <td>119169</td>\n",
       "      <td>27231</td>\n",
       "      <td>Comp004479</td>\n",
       "      <td>Comp274690</td>\n",
       "      <td>6</td>\n",
       "      <td>Port17617</td>\n",
       "      <td>2049</td>\n",
       "      <td>187996382</td>\n",
       "      <td>1106018577</td>\n",
       "      <td>18241852484</td>\n",
       "      <td>45575479772</td>\n",
       "      <td>1</td>\n",
       "    </tr>\n",
       "    <tr>\n",
       "      <th>312</th>\n",
       "      <td>119169</td>\n",
       "      <td>46850</td>\n",
       "      <td>Comp004479</td>\n",
       "      <td>Comp274690</td>\n",
       "      <td>6</td>\n",
       "      <td>Port17617</td>\n",
       "      <td>2049</td>\n",
       "      <td>188012056</td>\n",
       "      <td>1106026322</td>\n",
       "      <td>18243509496</td>\n",
       "      <td>45576786992</td>\n",
       "      <td>1</td>\n",
       "    </tr>\n",
       "    <tr>\n",
       "      <th>313</th>\n",
       "      <td>119169</td>\n",
       "      <td>65450</td>\n",
       "      <td>Comp004479</td>\n",
       "      <td>Comp274690</td>\n",
       "      <td>6</td>\n",
       "      <td>Port17617</td>\n",
       "      <td>2049</td>\n",
       "      <td>188026938</td>\n",
       "      <td>1106033761</td>\n",
       "      <td>18245057412</td>\n",
       "      <td>45578036816</td>\n",
       "      <td>1</td>\n",
       "    </tr>\n",
       "    <tr>\n",
       "      <th>314</th>\n",
       "      <td>119169</td>\n",
       "      <td>82190</td>\n",
       "      <td>Comp004479</td>\n",
       "      <td>Comp274690</td>\n",
       "      <td>6</td>\n",
       "      <td>Port17617</td>\n",
       "      <td>2049</td>\n",
       "      <td>188040322</td>\n",
       "      <td>1106040453</td>\n",
       "      <td>18246449348</td>\n",
       "      <td>45579161072</td>\n",
       "      <td>1</td>\n",
       "    </tr>\n",
       "    <tr>\n",
       "      <th>315</th>\n",
       "      <td>119169</td>\n",
       "      <td>87872</td>\n",
       "      <td>Comp004479</td>\n",
       "      <td>Comp274690</td>\n",
       "      <td>6</td>\n",
       "      <td>Port17617</td>\n",
       "      <td>2049</td>\n",
       "      <td>188046450</td>\n",
       "      <td>1106042771</td>\n",
       "      <td>18247093588</td>\n",
       "      <td>45579557920</td>\n",
       "      <td>1</td>\n",
       "    </tr>\n",
       "  </tbody>\n",
       "</table>\n",
       "</div>"
      ],
      "text/plain": [
       "       time  duration   srcDevice   dstDevice  protocol    srcPort dstPort  \\\n",
       "310  119169     14275  Comp004479  Comp274690         6  Port17617    2049   \n",
       "311  119169     27231  Comp004479  Comp274690         6  Port17617    2049   \n",
       "312  119169     46850  Comp004479  Comp274690         6  Port17617    2049   \n",
       "313  119169     65450  Comp004479  Comp274690         6  Port17617    2049   \n",
       "314  119169     82190  Comp004479  Comp274690         6  Port17617    2049   \n",
       "315  119169     87872  Comp004479  Comp274690         6  Port17617    2049   \n",
       "\n",
       "     srcPackets  dstPackets     srcBytes     dstBytes  clusters  \n",
       "310    84515677   588887960   8197543524  22300992620         1  \n",
       "311   187996382  1106018577  18241852484  45575479772         1  \n",
       "312   188012056  1106026322  18243509496  45576786992         1  \n",
       "313   188026938  1106033761  18245057412  45578036816         1  \n",
       "314   188040322  1106040453  18246449348  45579161072         1  \n",
       "315   188046450  1106042771  18247093588  45579557920         1  "
      ]
     },
     "execution_count": 17,
     "metadata": {},
     "output_type": "execute_result"
    }
   ],
   "source": [
    "#Used to select the entire element/row where clusters = 1\n",
    "cluster1_rows = list(np.where(xLogs[\"clusters\"] == 1)[0])\n",
    "xLogs.iloc[cluster1_rows]\n",
    "#len(select_rows)                                       #Returns the number of rows that matched our prior condition"
   ]
  },
  {
   "cell_type": "markdown",
   "metadata": {},
   "source": [
    "# Cluster ID 2 (if cluster size increased)"
   ]
  },
  {
   "cell_type": "code",
   "execution_count": 18,
   "metadata": {},
   "outputs": [
    {
     "data": {
      "text/plain": [
       "(array([], dtype=int64),)"
      ]
     },
     "execution_count": 18,
     "metadata": {},
     "output_type": "execute_result"
    }
   ],
   "source": [
    "#Used to find the indexes of those rows where the Cluster equals 2\n",
    "#np.where(xLogs[\"clusters\"] == 2)"
   ]
  },
  {
   "cell_type": "code",
   "execution_count": 19,
   "metadata": {},
   "outputs": [
    {
     "data": {
      "text/html": [
       "<div>\n",
       "<style scoped>\n",
       "    .dataframe tbody tr th:only-of-type {\n",
       "        vertical-align: middle;\n",
       "    }\n",
       "\n",
       "    .dataframe tbody tr th {\n",
       "        vertical-align: top;\n",
       "    }\n",
       "\n",
       "    .dataframe thead th {\n",
       "        text-align: right;\n",
       "    }\n",
       "</style>\n",
       "<table border=\"1\" class=\"dataframe\">\n",
       "  <thead>\n",
       "    <tr style=\"text-align: right;\">\n",
       "      <th></th>\n",
       "      <th>time</th>\n",
       "      <th>duration</th>\n",
       "      <th>srcDevice</th>\n",
       "      <th>dstDevice</th>\n",
       "      <th>protocol</th>\n",
       "      <th>srcPort</th>\n",
       "      <th>dstPort</th>\n",
       "      <th>srcPackets</th>\n",
       "      <th>dstPackets</th>\n",
       "      <th>srcBytes</th>\n",
       "      <th>dstBytes</th>\n",
       "      <th>clusters</th>\n",
       "    </tr>\n",
       "  </thead>\n",
       "  <tbody>\n",
       "  </tbody>\n",
       "</table>\n",
       "</div>"
      ],
      "text/plain": [
       "Empty DataFrame\n",
       "Columns: [time, duration, srcDevice, dstDevice, protocol, srcPort, dstPort, srcPackets, dstPackets, srcBytes, dstBytes, clusters]\n",
       "Index: []"
      ]
     },
     "execution_count": 19,
     "metadata": {},
     "output_type": "execute_result"
    }
   ],
   "source": [
    "#Used to select the entire element/row where clusters = 2\n",
    "#cluster2_rows = list(np.where(xLogs[\"clusters\"] == 2)[0])\n",
    "#xLogs.iloc[cluster2_rows]"
   ]
  },
  {
   "cell_type": "markdown",
   "metadata": {},
   "source": [
    "# Scatter Plot"
   ]
  },
  {
   "cell_type": "code",
   "execution_count": 32,
   "metadata": {},
   "outputs": [],
   "source": [
    "#Loading Min Max Scaling and Creating New Data Frame\n",
    "from sklearn.preprocessing import MinMaxScaler\n",
    "scaler = MinMaxScaler()\n",
    "X2_normalized = pd.DataFrame(scaler.fit_transform(X2))        #We Normalized the data so that we can accurately compare them\n",
    "X3_clusters_normalized = pd.DataFrame(scaler.fit_transform(X3_clusters))"
   ]
  },
  {
   "cell_type": "code",
   "execution_count": 33,
   "metadata": {},
   "outputs": [],
   "source": [
    "#Assining Column Names. We Normalize these columns to have a common scalar value since Packet No. & Byte Size are different\n",
    "X2_normalized.columns = ['srcBytes', 'srcPackets', 'dstBytes', 'dstPackets']\n",
    "X3_clusters_normalized.columns = ['srcBytes', 'srcPackets', 'dstBytes', 'dstPackets', 'clusters']"
   ]
  },
  {
   "cell_type": "code",
   "execution_count": 17,
   "metadata": {
    "collapsed": true
   },
   "outputs": [
    {
     "data": {
      "image/png": "[encoded data removed]",
      "text/plain": [
       "<matplotlib.figure.Figure at 0x74a7eebf60>"
      ]
     },
     "metadata": {},
     "output_type": "display_data"
    }
   ],
   "source": [
    "import matplotlib.pyplot as plt\n",
    "\n",
    "#Selecting the first n rows. Data changes at 311 where cluster ID 1 emerges and shrinks the graph scale\n",
    "x = X2_normalized['srcPackets'].head(310)\n",
    "y = X2_normalized['dstPackets'].head(310)\n",
    "\n",
    "plt.scatter(x, y, alpha=0.5, c=\"red\", marker='*')\n",
    "plt.xlabel(\"Source Packets\")\n",
    "plt.ylabel(\"Destination Packets\")\n",
    "plt.show()"
   ]
  },
  {
   "cell_type": "markdown",
   "metadata": {},
   "source": [
    "# Elliptic Envelope"
   ]
  },
  {
   "cell_type": "code",
   "execution_count": 84,
   "metadata": {},
   "outputs": [
    {
     "data": {
      "text/plain": [
       "EllipticEnvelope(assume_centered=False, contamination=0.1, random_state=None,\n",
       "         store_precision=True, support_fraction=None)"
      ]
     },
     "execution_count": 84,
     "metadata": {},
     "output_type": "execute_result"
    }
   ],
   "source": [
    "#Implementing Algorithm\n",
    "#Using The Elliptic Envelope would work optimal since our data appears to be linear\n",
    "from sklearn.covariance import EllipticEnvelope\n",
    "elliptic = EllipticEnvelope()\n",
    "elliptic.fit(X2_normalized)\n",
    "#elliptic.fit(X3_clusters_normalized)"
   ]
  },
  {
   "cell_type": "code",
   "execution_count": 68,
   "metadata": {},
   "outputs": [],
   "source": [
    "#Predicting Anomaly Class and Anomaly Score\n",
    "Anomaly_Class = elliptic.predict(X2_normalized)\n",
    "Anomaly_Score = elliptic.decision_function(X2_normalized)"
   ]
  },
  {
   "cell_type": "code",
   "execution_count": 69,
   "metadata": {},
   "outputs": [],
   "source": [
    "#Creating New Columns Based on Anomaly Detection\n",
    "X2['Anomaly_Class'] = Anomaly_Class\n",
    "X2['Anomaly_Score'] = Anomaly_Score"
   ]
  },
  {
   "cell_type": "code",
   "execution_count": 21,
   "metadata": {},
   "outputs": [
    {
     "data": {
      "text/html": [
       "<div>\n",
       "<style scoped>\n",
       "    .dataframe tbody tr th:only-of-type {\n",
       "        vertical-align: middle;\n",
       "    }\n",
       "\n",
       "    .dataframe tbody tr th {\n",
       "        vertical-align: top;\n",
       "    }\n",
       "\n",
       "    .dataframe thead th {\n",
       "        text-align: right;\n",
       "    }\n",
       "</style>\n",
       "<table border=\"1\" class=\"dataframe\">\n",
       "  <thead>\n",
       "    <tr style=\"text-align: right;\">\n",
       "      <th></th>\n",
       "      <th>Anomaly_Score</th>\n",
       "    </tr>\n",
       "    <tr>\n",
       "      <th>Anomaly_Class</th>\n",
       "      <th></th>\n",
       "    </tr>\n",
       "  </thead>\n",
       "  <tbody>\n",
       "    <tr>\n",
       "      <th>-1</th>\n",
       "      <td>500</td>\n",
       "    </tr>\n",
       "    <tr>\n",
       "      <th>1</th>\n",
       "      <td>4500</td>\n",
       "    </tr>\n",
       "  </tbody>\n",
       "</table>\n",
       "</div>"
      ],
      "text/plain": [
       "               Anomaly_Score\n",
       "Anomaly_Class               \n",
       "-1                       500\n",
       " 1                      4500"
      ]
     },
     "execution_count": 21,
     "metadata": {},
     "output_type": "execute_result"
    }
   ],
   "source": [
    "#Viewing Class Counts\n",
    "#-1 is anomaly, 1 is normal\n",
    "X2.groupby('Anomaly_Class')[['Anomaly_Score']].count()"
   ]
  },
  {
   "cell_type": "code",
   "execution_count": 26,
   "metadata": {
    "collapsed": true
   },
   "outputs": [
    {
     "data": {
      "text/plain": [
       "(array([   0,   17,   18,   19,   20,   21,   34,   35,   36,   60,   62,\n",
       "          64,   66,   67,   68,   69,   70,   71,   72,   73,   74,   75,\n",
       "          76,   77,   78,   79,   92,   93,   94,   95,   96,   97,   98,\n",
       "          99,  162,  163,  164,  165,  166,  167,  168,  175,  176,  177,\n",
       "         178,  179,  180,  181,  183,  184,  186,  187,  188,  190,  191,\n",
       "         192,  193,  194,  195,  196,  197,  198,  202,  203,  204,  205,\n",
       "         206,  207,  208,  209,  210,  211,  212,  213,  214,  215,  216,\n",
       "         217,  218,  219,  220,  221,  222,  223,  224,  225,  226,  227,\n",
       "         228,  229,  230,  231,  232,  233,  234,  235,  236,  237,  238,\n",
       "         239,  240,  241,  259,  261,  262,  265,  267,  268,  278,  279,\n",
       "         290,  291,  292,  293,  294,  295,  296,  298,  299,  300,  301,\n",
       "         302,  303,  304,  305,  306,  307,  310,  311,  312,  313,  314,\n",
       "         315,  327,  328,  329,  330,  331,  353,  354,  355,  356,  357,\n",
       "         358,  359,  393,  394,  395,  396,  397,  400,  401,  402,  403,\n",
       "         404,  405,  406,  407,  408,  409,  410,  411,  412,  413,  414,\n",
       "         415,  416,  417,  418,  419,  420,  421,  422,  423,  424,  425,\n",
       "         426,  427,  428,  429,  430,  431,  432,  433,  434,  455,  460,\n",
       "         470,  472,  475,  476,  481,  483,  485,  487,  489,  490,  491,\n",
       "         492,  493,  494,  495,  496,  497,  498,  499,  500,  501,  502,\n",
       "         503,  504,  505,  506,  507,  519,  530,  531,  532,  533,  534,\n",
       "         535,  536,  537,  538,  539,  540,  541,  542,  543,  544,  545,\n",
       "         546,  547,  548,  549,  550,  551,  552,  553,  554,  555,  556,\n",
       "         557,  558,  559,  560,  561,  562,  563,  564,  565,  566,  734,\n",
       "         735,  927,  928,  930,  934,  938,  941,  950,  951,  952,  953,\n",
       "         954,  955,  956,  957,  963,  978,  980,  997,  998,  999, 1000,\n",
       "        1001, 1002, 1032, 1033, 1036, 1037, 1039, 1040, 1041, 1042, 1056,\n",
       "        1064, 1065, 1083, 1088, 1092, 1095, 1100, 1101, 1122, 1123, 1124,\n",
       "        1125, 1126, 1127, 1128, 1129, 1130, 1131, 1132, 1133, 1134, 1135,\n",
       "        1136, 1137, 1138, 1139, 1140, 1141, 1142, 1143, 1144, 1145, 1146,\n",
       "        1147, 1148, 1149, 1150, 1151, 1152, 1153, 1154, 1155, 1156, 1157,\n",
       "        1158, 1205, 1222, 1223, 1224, 1225, 1226, 1227, 1228, 1229, 1230,\n",
       "        1231, 1232, 1233, 1234, 1235, 1236, 1237, 1238, 1249, 1294, 1296,\n",
       "        1300, 1341, 1342, 1343, 1769, 1770, 1771, 1772, 1773, 1774, 1775,\n",
       "        1786, 1985, 1988, 1990, 2137, 2233, 2234, 2239, 2244, 2246, 2247,\n",
       "        2251, 2802, 2812, 2824, 2826, 2886, 2889, 2898, 2901, 2902, 2934,\n",
       "        2935, 2936, 2937, 2938, 2939, 2940, 2941, 2942, 2943, 2944, 2945,\n",
       "        2946, 2947, 2948, 2949, 2950, 2951, 2952, 2953, 2954, 3009, 3010,\n",
       "        3013, 3014, 3016, 3017, 3018, 3020, 3101, 3173, 3186, 3188, 3190,\n",
       "        3191, 3192, 3193, 3195, 3228, 3229, 3230, 3231, 3232, 3233, 3234,\n",
       "        3235, 3236, 3237, 3238, 3239, 3240, 3241, 3242, 3243, 3723, 3727,\n",
       "        3728, 3902, 3910, 3916, 3918, 3923, 3924, 3925, 3926, 3927, 3928,\n",
       "        3929, 3930, 3931, 3932, 3933, 3934, 3935, 3936, 3937, 3938, 3939,\n",
       "        3940, 3941, 3989, 4177, 4178, 4179, 4181, 4183, 4184, 4185, 4186,\n",
       "        4187, 4281, 4284, 4363, 4398, 4402, 4403, 4406, 4430, 4431, 4541,\n",
       "        4616, 4618, 4620, 4622, 4624, 4676, 4716, 4784, 4785, 4805, 4852,\n",
       "        4880, 4953, 4969, 4981, 4993], dtype=int64),)"
      ]
     },
     "execution_count": 26,
     "metadata": {},
     "output_type": "execute_result"
    }
   ],
   "source": [
    "#Used to find the indexes of those rows where the Anomaly Class equals -1\n",
    "np.where(X2[\"Anomaly_Class\"] == -1)"
   ]
  },
  {
   "cell_type": "code",
   "execution_count": 27,
   "metadata": {
    "scrolled": true
   },
   "outputs": [
    {
     "data": {
      "text/plain": [
       "array([<matplotlib.axes._subplots.AxesSubplot object at 0x00000074A8779240>,\n",
       "       <matplotlib.axes._subplots.AxesSubplot object at 0x00000074A87A6668>],\n",
       "      dtype=object)"
      ]
     },
     "execution_count": 27,
     "metadata": {},
     "output_type": "execute_result"
    },
    {
     "data": {
      "image/png": "[encoded data removed]",
      "text/plain": [
       "<matplotlib.figure.Figure at 0x74a875df98>"
      ]
     },
     "metadata": {},
     "output_type": "display_data"
    }
   ],
   "source": [
    "#Histogram of Anomaly Scores By Anomaly Class\n",
    "X2['Anomaly_Score'].hist(by=X2['Anomaly_Class'])"
   ]
  },
  {
   "cell_type": "code",
   "execution_count": 56,
   "metadata": {},
   "outputs": [
    {
     "data": {
      "text/plain": [
       "EllipticEnvelope(assume_centered=False, contamination=0.2, random_state=None,\n",
       "         store_precision=True, support_fraction=None)"
      ]
     },
     "execution_count": 56,
     "metadata": {},
     "output_type": "execute_result"
    }
   ],
   "source": [
    "#Implementing Algorithm With Different Parameters where we increased the contamination parameters\n",
    "from sklearn.covariance import EllipticEnvelope\n",
    "elliptic = EllipticEnvelope(contamination=0.2)\n",
    "elliptic.fit(X2_normalized)"
   ]
  },
  {
   "cell_type": "code",
   "execution_count": 57,
   "metadata": {},
   "outputs": [],
   "source": [
    "#Predicting Anomaly Class and Anomaly Score\n",
    "Anomaly_Class = elliptic.predict(X2_normalized)\n",
    "Anomaly_Score = elliptic.decision_function(X2_normalized)"
   ]
  },
  {
   "cell_type": "code",
   "execution_count": 58,
   "metadata": {},
   "outputs": [],
   "source": [
    "#Creating New Columns Based on Anomaly Detection\n",
    "X2['Anomaly_Class_Contamination'] = Anomaly_Class\n",
    "X2['Anomaly_Score_Contamination'] = Anomaly_Score"
   ]
  },
  {
   "cell_type": "code",
   "execution_count": 59,
   "metadata": {},
   "outputs": [
    {
     "data": {
      "text/html": [
       "<div>\n",
       "<style scoped>\n",
       "    .dataframe tbody tr th:only-of-type {\n",
       "        vertical-align: middle;\n",
       "    }\n",
       "\n",
       "    .dataframe tbody tr th {\n",
       "        vertical-align: top;\n",
       "    }\n",
       "\n",
       "    .dataframe thead th {\n",
       "        text-align: right;\n",
       "    }\n",
       "</style>\n",
       "<table border=\"1\" class=\"dataframe\">\n",
       "  <thead>\n",
       "    <tr style=\"text-align: right;\">\n",
       "      <th></th>\n",
       "      <th>Anomaly_Score_Contamination</th>\n",
       "    </tr>\n",
       "    <tr>\n",
       "      <th>Anomaly_Class_Contamination</th>\n",
       "      <th></th>\n",
       "    </tr>\n",
       "  </thead>\n",
       "  <tbody>\n",
       "    <tr>\n",
       "      <th>-1</th>\n",
       "      <td>1000</td>\n",
       "    </tr>\n",
       "    <tr>\n",
       "      <th>1</th>\n",
       "      <td>4000</td>\n",
       "    </tr>\n",
       "  </tbody>\n",
       "</table>\n",
       "</div>"
      ],
      "text/plain": [
       "                             Anomaly_Score_Contamination\n",
       "Anomaly_Class_Contamination                             \n",
       "-1                                                  1000\n",
       " 1                                                  4000"
      ]
     },
     "execution_count": 59,
     "metadata": {},
     "output_type": "execute_result"
    }
   ],
   "source": [
    "X2.groupby('Anomaly_Class_Contamination')[['Anomaly_Score_Contamination']].count()"
   ]
  },
  {
   "cell_type": "code",
   "execution_count": 60,
   "metadata": {},
   "outputs": [
    {
     "data": {
      "text/plain": [
       "array([<matplotlib.axes._subplots.AxesSubplot object at 0x00000074A8B985C0>,\n",
       "       <matplotlib.axes._subplots.AxesSubplot object at 0x00000074A8C4BF98>],\n",
       "      dtype=object)"
      ]
     },
     "execution_count": 60,
     "metadata": {},
     "output_type": "execute_result"
    },
    {
     "data": {
      "image/png": "[encoded data removed]",
      "text/plain": [
       "<matplotlib.figure.Figure at 0x74a882ef60>"
      ]
     },
     "metadata": {},
     "output_type": "display_data"
    }
   ],
   "source": [
    "X2['Anomaly_Score_Contamination'].hist(by=X2['Anomaly_Class_Contamination'])"
   ]
  },
  {
   "cell_type": "code",
   "execution_count": 74,
   "metadata": {},
   "outputs": [
    {
     "data": {
      "text/html": [
       "<div>\n",
       "<style scoped>\n",
       "    .dataframe tbody tr th:only-of-type {\n",
       "        vertical-align: middle;\n",
       "    }\n",
       "\n",
       "    .dataframe tbody tr th {\n",
       "        vertical-align: top;\n",
       "    }\n",
       "\n",
       "    .dataframe thead th {\n",
       "        text-align: right;\n",
       "    }\n",
       "</style>\n",
       "<table border=\"1\" class=\"dataframe\">\n",
       "  <thead>\n",
       "    <tr style=\"text-align: right;\">\n",
       "      <th></th>\n",
       "      <th>srcPackets</th>\n",
       "      <th>dstPackets</th>\n",
       "      <th>srcBytes</th>\n",
       "      <th>dstBytes</th>\n",
       "      <th>Anomaly_Class_Contamination</th>\n",
       "      <th>Anomaly_Score_Contamination</th>\n",
       "      <th>Anomaly_Class</th>\n",
       "      <th>Anomaly_Score</th>\n",
       "    </tr>\n",
       "  </thead>\n",
       "  <tbody>\n",
       "    <tr>\n",
       "      <th>0</th>\n",
       "      <td>0</td>\n",
       "      <td>755065</td>\n",
       "      <td>0</td>\n",
       "      <td>1042329018</td>\n",
       "      <td>-1</td>\n",
       "      <td>-330.553060</td>\n",
       "      <td>-1</td>\n",
       "      <td>-319.691927</td>\n",
       "    </tr>\n",
       "    <tr>\n",
       "      <th>1</th>\n",
       "      <td>1665</td>\n",
       "      <td>1108</td>\n",
       "      <td>300810</td>\n",
       "      <td>250408</td>\n",
       "      <td>1</td>\n",
       "      <td>10.500356</td>\n",
       "      <td>1</td>\n",
       "      <td>21.361489</td>\n",
       "    </tr>\n",
       "    <tr>\n",
       "      <th>2</th>\n",
       "      <td>1866</td>\n",
       "      <td>0</td>\n",
       "      <td>1477041</td>\n",
       "      <td>0</td>\n",
       "      <td>1</td>\n",
       "      <td>7.588436</td>\n",
       "      <td>1</td>\n",
       "      <td>18.449568</td>\n",
       "    </tr>\n",
       "    <tr>\n",
       "      <th>3</th>\n",
       "      <td>3326</td>\n",
       "      <td>0</td>\n",
       "      <td>2656305</td>\n",
       "      <td>0</td>\n",
       "      <td>1</td>\n",
       "      <td>5.603671</td>\n",
       "      <td>1</td>\n",
       "      <td>16.464803</td>\n",
       "    </tr>\n",
       "    <tr>\n",
       "      <th>4</th>\n",
       "      <td>5423</td>\n",
       "      <td>0</td>\n",
       "      <td>4388449</td>\n",
       "      <td>0</td>\n",
       "      <td>1</td>\n",
       "      <td>3.168006</td>\n",
       "      <td>1</td>\n",
       "      <td>14.029138</td>\n",
       "    </tr>\n",
       "  </tbody>\n",
       "</table>\n",
       "</div>"
      ],
      "text/plain": [
       "   srcPackets  dstPackets  srcBytes    dstBytes  Anomaly_Class_Contamination  \\\n",
       "0           0      755065         0  1042329018                           -1   \n",
       "1        1665        1108    300810      250408                            1   \n",
       "2        1866           0   1477041           0                            1   \n",
       "3        3326           0   2656305           0                            1   \n",
       "4        5423           0   4388449           0                            1   \n",
       "\n",
       "   Anomaly_Score_Contamination  Anomaly_Class  Anomaly_Score  \n",
       "0                  -330.553060             -1    -319.691927  \n",
       "1                    10.500356              1      21.361489  \n",
       "2                     7.588436              1      18.449568  \n",
       "3                     5.603671              1      16.464803  \n",
       "4                     3.168006              1      14.029138  "
      ]
     },
     "execution_count": 74,
     "metadata": {},
     "output_type": "execute_result"
    }
   ],
   "source": [
    "X2.head()"
   ]
  },
  {
   "cell_type": "code",
   "execution_count": 83,
   "metadata": {},
   "outputs": [
    {
     "data": {
      "text/html": [
       "<div>\n",
       "<style scoped>\n",
       "    .dataframe tbody tr th:only-of-type {\n",
       "        vertical-align: middle;\n",
       "    }\n",
       "\n",
       "    .dataframe tbody tr th {\n",
       "        vertical-align: top;\n",
       "    }\n",
       "\n",
       "    .dataframe thead th {\n",
       "        text-align: right;\n",
       "    }\n",
       "</style>\n",
       "<table border=\"1\" class=\"dataframe\">\n",
       "  <thead>\n",
       "    <tr style=\"text-align: right;\">\n",
       "      <th></th>\n",
       "      <th>Anomaly_Score_Contamination</th>\n",
       "      <th>Anomaly_Score</th>\n",
       "    </tr>\n",
       "  </thead>\n",
       "  <tbody>\n",
       "    <tr>\n",
       "      <th>0</th>\n",
       "      <td>-330.553060</td>\n",
       "      <td>-319.691927</td>\n",
       "    </tr>\n",
       "    <tr>\n",
       "      <th>4</th>\n",
       "      <td>3.168006</td>\n",
       "      <td>14.029138</td>\n",
       "    </tr>\n",
       "    <tr>\n",
       "      <th>3</th>\n",
       "      <td>5.603671</td>\n",
       "      <td>16.464803</td>\n",
       "    </tr>\n",
       "    <tr>\n",
       "      <th>2</th>\n",
       "      <td>7.588436</td>\n",
       "      <td>18.449568</td>\n",
       "    </tr>\n",
       "    <tr>\n",
       "      <th>1</th>\n",
       "      <td>10.500356</td>\n",
       "      <td>21.361489</td>\n",
       "    </tr>\n",
       "  </tbody>\n",
       "</table>\n",
       "</div>"
      ],
      "text/plain": [
       "   Anomaly_Score_Contamination  Anomaly_Score\n",
       "0                  -330.553060    -319.691927\n",
       "4                     3.168006      14.029138\n",
       "3                     5.603671      16.464803\n",
       "2                     7.588436      18.449568\n",
       "1                    10.500356      21.361489"
      ]
     },
     "execution_count": 83,
     "metadata": {},
     "output_type": "execute_result"
    }
   ],
   "source": [
    "#Top 5 Anomaly Records\n",
    "X2[['Anomaly_Score_Contamination','Anomaly_Score']].head().sort_values(['Anomaly_Score_Contamination'], ascending=[1])"
   ]
  },
  {
   "cell_type": "code",
   "execution_count": null,
   "metadata": {},
   "outputs": [],
   "source": []
  }
 ],
 "metadata": {
  "kernelspec": {
   "display_name": "Python 3",
   "language": "python",
   "name": "python3"
  },
  "language_info": {
   "codemirror_mode": {
    "name": "ipython",
    "version": 3
   },
   "file_extension": ".py",
   "mimetype": "text/x-python",
   "name": "python",
   "nbconvert_exporter": "python",
   "pygments_lexer": "ipython3",
   "version": "3.6.4"
  }
 },
 "nbformat": 4,
 "nbformat_minor": 2
}
